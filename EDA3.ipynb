{
 "cells": [
  {
   "cell_type": "code",
   "execution_count": 1,
   "metadata": {},
   "outputs": [],
   "source": [
    "import pandas as pd\n",
    "import seaborn as sns\n",
    "\n",
    "df = pd.read_csv('dulieuxettuyendaihoc.csv',header=0, delimiter=',',encoding='utf-8')"
   ]
  },
  {
   "cell_type": "code",
   "execution_count": 5,
   "metadata": {},
   "outputs": [],
   "source": [
    "df.rename(columns={'TOANLOGICPHANTICH':'LOGIC',\n",
    "                   'GIAIQUYETVANDE':'UNGXU',\n",
    "                   'DINHHUONGNGHENGHIEP' : 'HUONGNGHIEP'},inplace=True)"
   ]
  },
  {
   "cell_type": "code",
   "execution_count": 3,
   "metadata": {},
   "outputs": [
    {
     "data": {
      "text/plain": [
       "count    14.000000\n",
       "mean      4.232143\n",
       "std       1.947544\n",
       "min       1.500000\n",
       "25%       2.750000\n",
       "50%       3.875000\n",
       "75%       5.187500\n",
       "max       8.000000\n",
       "Name: LOGIC, dtype: float64"
      ]
     },
     "execution_count": 3,
     "metadata": {},
     "output_type": "execute_result"
    }
   ],
   "source": [
    "#dữ liệu thì sinh thi khôi C\n",
    "dfKhoiC = df.loc[df['KT'] == 'C']\n",
    "dfKhoiC['LOGIC'].describe()"
   ]
  },
  {
   "cell_type": "code",
   "execution_count": 6,
   "metadata": {},
   "outputs": [
    {
     "data": {
      "text/plain": [
       "TtestResult(statistic=0.44599723713991907, pvalue=0.6629370899710998, df=13)"
      ]
     },
     "execution_count": 6,
     "metadata": {},
     "output_type": "execute_result"
    }
   ],
   "source": [
    "import scipy.stats as stats\n",
    "# Với one sample T-test thì giả thiết Ho: muy = 4.0\n",
    "# Mặc định mức tin cậy là 95% và mức sai lầm là 5%\n",
    "stats.ttest_1samp(dfKhoiC['LOGIC'], popmean=4.0)"
   ]
  },
  {
   "cell_type": "code",
   "execution_count": 7,
   "metadata": {},
   "outputs": [
    {
     "data": {
      "text/plain": [
       "TtestResult(statistic=-1.0329196014245297, pvalue=0.3111543826061086, df=26.0)"
      ]
     },
     "execution_count": 7,
     "metadata": {},
     "output_type": "execute_result"
    }
   ],
   "source": [
    "# TWO SAMPLE T-TEST\n",
    "# Mục đích: Kiểm tra xem trung bình của 2 biến số (định lượng) có bằng nhau không\n",
    "# Ho: delta_mean = 0\n",
    "# Hãy kiểm tra xem trung bình điểm thi LOGIC và\n",
    "# trung bình điểm thi UNGXU của thí sinh thi khối C có bằng nhau không?\n",
    "# Ho: mean_LOGIC - mean_UNGXU = 0\n",
    "dfKhoiC = df.loc[df['KT'] == 'C']\n",
    "stats.ttest_ind(dfKhoiC['LOGIC'], dfKhoiC['UNGXU'], equal_var=True)"
   ]
  },
  {
   "cell_type": "code",
   "execution_count": 15,
   "metadata": {},
   "outputs": [
    {
     "data": {
      "text/plain": [
       "(-7.797828845339864, 6.298135014120743e-15)"
      ]
     },
     "execution_count": 15,
     "metadata": {},
     "output_type": "execute_result"
    }
   ],
   "source": [
    "from statsmodels.stats.weightstats import ztest as ztest\n",
    "# Hãy kiểm tra xem trung bình điểm toán học kì 2 lớp 12 có bằng 8.0\n",
    "ztest(df['T6'], value=8.0)\n",
    "#bac bo"
   ]
  },
  {
   "cell_type": "code",
   "execution_count": 16,
   "metadata": {},
   "outputs": [
    {
     "data": {
      "text/plain": [
       "(-1.094138573502891, 0.273894207026412)"
      ]
     },
     "execution_count": 16,
     "metadata": {},
     "output_type": "execute_result"
    }
   ],
   "source": [
    "# Hãy kiểm tra xem điểm trung bình toán học kì 1\n",
    "# và học kì 2 năm lớp 12 có bằng nhau không\n",
    "ztest(df['T5'], df['T6'], value=0)"
   ]
  },
  {
   "cell_type": "code",
   "execution_count": null,
   "metadata": {},
   "outputs": [],
   "source": [
    "# Kiểm tra trung bình LOGIC và UNGXU có bằng nhau không\n",
    "# với mức tin cậy 95%\n"
   ]
  },
  {
   "cell_type": "code",
   "execution_count": 17,
   "metadata": {},
   "outputs": [
    {
     "name": "stderr",
     "output_type": "stream",
     "text": [
      "C:\\Users\\Admin\\AppData\\Local\\Temp\\ipykernel_11996\\4070253678.py:1: DeprecationWarning: Please use `pearsonr` from the `scipy.stats` namespace, the `scipy.stats.stats` namespace is deprecated.\n",
      "  from scipy.stats.stats import pearsonr\n"
     ]
    },
    {
     "data": {
      "text/plain": [
       "PearsonRResult(statistic=0.7786831657869809, pvalue=1.4846407216273482e-21)"
      ]
     },
     "execution_count": 17,
     "metadata": {},
     "output_type": "execute_result"
    }
   ],
   "source": [
    "from scipy.stats.stats import pearsonr\n",
    "# Câu 5: Kiểm tra xem điểm toán học kì 1 và học kì 2 năm lớp 12 có tương quan không?\n",
    "pearsonr(df['T5'], df['T6'])\n",
    "#Dpearsonr = 0.77\n",
    "# < 0.5 yeu\n",
    "# 0.5 -> 0.65 TB\n",
    "# 0.65 -> 0.75 Tot\n",
    "#ket luan tren mau T5 T6 tuong quan thuan va muc do tuong quan rat tot.\n",
    "#suy dien ra cho tong the ta thay ppl = 0.77 bac bo Aplay"
   ]
  },
  {
   "cell_type": "code",
   "execution_count": 11,
   "metadata": {},
   "outputs": [
    {
     "data": {
      "text/plain": [
       "PearsonRResult(statistic=0.18464661226012727, pvalue=0.06590059130545516)"
      ]
     },
     "execution_count": 11,
     "metadata": {},
     "output_type": "execute_result"
    }
   ],
   "source": [
    "# Sinh viên làm tương tự cho T5 và LOGIC có tương quan hay không?\n",
    "pearsonr(df['T5'], df['LOGIC'])\n",
    "#khoong "
   ]
  },
  {
   "cell_type": "code",
   "execution_count": 14,
   "metadata": {},
   "outputs": [
    {
     "name": "stdout",
     "output_type": "stream",
     "text": [
      "odd ratio is : 0.575\n",
      "p_value is : 0.22763927303454412\n"
     ]
    }
   ],
   "source": [
    "import scipy.stats as stats\n",
    "\n",
    "\n",
    "# Hãy kiểm tra xem có sự phụ thuộc nào giữa việc sinh viên có định hướng nghề nghiệp\n",
    "# và giới tính khi thí sinh đăng ký dự thi hay không\n",
    "crosdata = pd.crosstab(df['GT'], [df['HUONGNGHIEP']], rownames=['GT'], colnames=['HUONGNGHIEP'])\n",
    "crosdata\n",
    "\n",
    "\n",
    "\n",
    "odd_ratio, p_value = stats.fisher_exact(crosdata)\n",
    "print('odd ratio is : ' + str(odd_ratio))\n",
    "print('p_value is : ' + str(p_value))\n",
    "\n",
    "#chấp nhận \n",
    "# sai lầm 5%\n",
    "# tin cậy 95%\n"
   ]
  },
  {
   "cell_type": "code",
   "execution_count": 19,
   "metadata": {},
   "outputs": [
    {
     "name": "stdout",
     "output_type": "stream",
     "text": [
      "p value is 0.02012461887796485\n",
      "Dependent (reject H0)\n"
     ]
    }
   ],
   "source": [
    "from scipy.stats import chi2_contingency\n",
    "# Hãy kiểm tra xem có sự phụ thuộc nào giữa khối thi và khu vực khi đăng ký dự thi hay không\n",
    "crosdata = pd.crosstab(df['KV'], [df['KT']], rownames=['KV'], colnames=['KT'])\n",
    "crosdata\n",
    "\n",
    "stat, p, dof, expected = chi2_contingency(crosdata)\n",
    " \n",
    "# interpret p-value\n",
    "alpha = 0.05\n",
    "print(\"p value is \" + str(p))\n",
    "if p <= alpha:\n",
    "    print('Dependent (reject H0)')\n",
    "else:\n",
    "    print('Independent (H0 holds true)')\n",
    "\n",
    "#bác bỏ H0\n"
   ]
  },
  {
   "cell_type": "code",
   "execution_count": 20,
   "metadata": {},
   "outputs": [
    {
     "name": "stdout",
     "output_type": "stream",
     "text": [
      "p value is 0.005044752209452435\n",
      "Dependent (reject H0)\n"
     ]
    }
   ],
   "source": [
    "# GT và KT có mối quan hệ hay không\n",
    "crosdata = pd.crosstab(df['GT'], [df['KT']], rownames=['GT'], colnames=['KT'])\n",
    "crosdata\n",
    "\n",
    "stat, p, dof, expected = chi2_contingency(crosdata)\n",
    " \n",
    "# interpret p-value\n",
    "alpha = 0.05\n",
    "print(\"p value is \" + str(p))\n",
    "if p <= alpha:\n",
    "    print('Dependent (reject H0)')\n",
    "else:\n",
    "    print('Independent (H0 holds true)')\n",
    "    \n",
    "    # bác bỏ H0"
   ]
  },
  {
   "cell_type": "code",
   "execution_count": 21,
   "metadata": {},
   "outputs": [
    {
     "data": {
      "text/html": [
       "<div>\n",
       "<style scoped>\n",
       "    .dataframe tbody tr th:only-of-type {\n",
       "        vertical-align: middle;\n",
       "    }\n",
       "\n",
       "    .dataframe tbody tr th {\n",
       "        vertical-align: top;\n",
       "    }\n",
       "\n",
       "    .dataframe thead th {\n",
       "        text-align: right;\n",
       "    }\n",
       "</style>\n",
       "<table border=\"1\" class=\"dataframe\">\n",
       "  <thead>\n",
       "    <tr style=\"text-align: right;\">\n",
       "      <th></th>\n",
       "      <th>df</th>\n",
       "      <th>sum_sq</th>\n",
       "      <th>mean_sq</th>\n",
       "      <th>F</th>\n",
       "      <th>PR(&gt;F)</th>\n",
       "    </tr>\n",
       "  </thead>\n",
       "  <tbody>\n",
       "    <tr>\n",
       "      <th>GT</th>\n",
       "      <td>1.0</td>\n",
       "      <td>1.55201</td>\n",
       "      <td>1.55201</td>\n",
       "      <td>0.833769</td>\n",
       "      <td>0.363426</td>\n",
       "    </tr>\n",
       "    <tr>\n",
       "      <th>Residual</th>\n",
       "      <td>98.0</td>\n",
       "      <td>182.42109</td>\n",
       "      <td>1.86144</td>\n",
       "      <td>NaN</td>\n",
       "      <td>NaN</td>\n",
       "    </tr>\n",
       "  </tbody>\n",
       "</table>\n",
       "</div>"
      ],
      "text/plain": [
       "            df     sum_sq  mean_sq         F    PR(>F)\n",
       "GT         1.0    1.55201  1.55201  0.833769  0.363426\n",
       "Residual  98.0  182.42109  1.86144       NaN       NaN"
      ]
     },
     "execution_count": 21,
     "metadata": {},
     "output_type": "execute_result"
    }
   ],
   "source": [
    "# Điểm toán học kì 2 lớp 12 có phụ thuộc vào giới tính không\n",
    "import statsmodels.api as sm\n",
    "from statsmodels.formula.api import ols\n",
    "\n",
    "\n",
    "model = ols('T6 ~ GT', data=df).fit()\n",
    "aov_table = sm.stats.anova_lm(model, typ=1)\n",
    "aov_table\n"
   ]
  },
  {
   "cell_type": "code",
   "execution_count": 23,
   "metadata": {},
   "outputs": [
    {
     "data": {
      "text/html": [
       "<div>\n",
       "<style scoped>\n",
       "    .dataframe tbody tr th:only-of-type {\n",
       "        vertical-align: middle;\n",
       "    }\n",
       "\n",
       "    .dataframe tbody tr th {\n",
       "        vertical-align: top;\n",
       "    }\n",
       "\n",
       "    .dataframe thead th {\n",
       "        text-align: right;\n",
       "    }\n",
       "</style>\n",
       "<table border=\"1\" class=\"dataframe\">\n",
       "  <thead>\n",
       "    <tr style=\"text-align: right;\">\n",
       "      <th></th>\n",
       "      <th>df</th>\n",
       "      <th>sum_sq</th>\n",
       "      <th>mean_sq</th>\n",
       "      <th>F</th>\n",
       "      <th>PR(&gt;F)</th>\n",
       "    </tr>\n",
       "  </thead>\n",
       "  <tbody>\n",
       "    <tr>\n",
       "      <th>KT</th>\n",
       "      <td>4.0</td>\n",
       "      <td>3.967636</td>\n",
       "      <td>0.991909</td>\n",
       "      <td>0.911814</td>\n",
       "      <td>0.46041</td>\n",
       "    </tr>\n",
       "    <tr>\n",
       "      <th>Residual</th>\n",
       "      <td>95.0</td>\n",
       "      <td>103.344864</td>\n",
       "      <td>1.087841</td>\n",
       "      <td>NaN</td>\n",
       "      <td>NaN</td>\n",
       "    </tr>\n",
       "  </tbody>\n",
       "</table>\n",
       "</div>"
      ],
      "text/plain": [
       "            df      sum_sq   mean_sq         F   PR(>F)\n",
       "KT         4.0    3.967636  0.991909  0.911814  0.46041\n",
       "Residual  95.0  103.344864  1.087841       NaN      NaN"
      ]
     },
     "execution_count": 23,
     "metadata": {},
     "output_type": "execute_result"
    }
   ],
   "source": [
    "# Điểm LOGIC có phụ thuộc vào khu vực hay không\n",
    "import statsmodels.api as sm\n",
    "from statsmodels.formula.api import ols\n",
    "\n",
    "\n",
    "model = ols('LOGIC ~ KV', data=df).fit()\n",
    "aov_table = sm.stats.anova_lm(model, typ=1)\n",
    "aov_table\n",
    "\n",
    "# không "
   ]
  },
  {
   "cell_type": "code",
   "execution_count": 24,
   "metadata": {},
   "outputs": [
    {
     "data": {
      "text/html": [
       "<div>\n",
       "<style scoped>\n",
       "    .dataframe tbody tr th:only-of-type {\n",
       "        vertical-align: middle;\n",
       "    }\n",
       "\n",
       "    .dataframe tbody tr th {\n",
       "        vertical-align: top;\n",
       "    }\n",
       "\n",
       "    .dataframe thead th {\n",
       "        text-align: right;\n",
       "    }\n",
       "</style>\n",
       "<table border=\"1\" class=\"dataframe\">\n",
       "  <thead>\n",
       "    <tr style=\"text-align: right;\">\n",
       "      <th></th>\n",
       "      <th>df</th>\n",
       "      <th>sum_sq</th>\n",
       "      <th>mean_sq</th>\n",
       "      <th>F</th>\n",
       "      <th>PR(&gt;F)</th>\n",
       "    </tr>\n",
       "  </thead>\n",
       "  <tbody>\n",
       "    <tr>\n",
       "      <th>KT</th>\n",
       "      <td>4.0</td>\n",
       "      <td>3.967636</td>\n",
       "      <td>0.991909</td>\n",
       "      <td>0.911814</td>\n",
       "      <td>0.46041</td>\n",
       "    </tr>\n",
       "    <tr>\n",
       "      <th>Residual</th>\n",
       "      <td>95.0</td>\n",
       "      <td>103.344864</td>\n",
       "      <td>1.087841</td>\n",
       "      <td>NaN</td>\n",
       "      <td>NaN</td>\n",
       "    </tr>\n",
       "  </tbody>\n",
       "</table>\n",
       "</div>"
      ],
      "text/plain": [
       "            df      sum_sq   mean_sq         F   PR(>F)\n",
       "KT         4.0    3.967636  0.991909  0.911814  0.46041\n",
       "Residual  95.0  103.344864  1.087841       NaN      NaN"
      ]
     },
     "execution_count": 24,
     "metadata": {},
     "output_type": "execute_result"
    }
   ],
   "source": [
    "# Điểm UNGXU có phụ thuộc khối thi hay không\n",
    "import statsmodels.api as sm\n",
    "from statsmodels.formula.api import ols\n",
    "\n",
    "\n",
    "model = ols('UNGXU ~ KT', data=df).fit()\n",
    "aov_table = sm.stats.anova_lm(model, typ=1)\n",
    "aov_table\n",
    "\n",
    "#có"
   ]
  },
  {
   "cell_type": "code",
   "execution_count": 25,
   "metadata": {},
   "outputs": [
    {
     "name": "stdout",
     "output_type": "stream",
     "text": [
      "            df     sum_sq   mean_sq         F    PR(>F)\n",
      "GT         1.0   3.998401  3.998401  3.853364  0.052602\n",
      "KV         2.0   8.561314  4.280657  4.125382  0.019173\n",
      "GT:KV      2.0   1.149707  0.574854  0.554002  0.576510\n",
      "Residual  94.0  97.538077  1.037639       NaN       NaN\n"
     ]
    }
   ],
   "source": [
    "# Hãy cho biết điểm LOGIC có phụ thuộc vào loại GT trên từng nhóm KV hay không\n",
    "model = ols('LOGIC ~ GT + KV + GT:KV',data=df).fit()\n",
    "result = sm.stats.anova_lm(model, type=2)\n",
    " \n",
    "# Print the result\n",
    "print(result)\n",
    "\n",
    "#logic ->GT => p.value = 0.052 => Acept -> ko phụ thuộc\n",
    "#Logic ->KV => p.value = 0.019 => Acept -> có phụ thuộc"
   ]
  },
  {
   "cell_type": "code",
   "execution_count": 26,
   "metadata": {},
   "outputs": [
    {
     "name": "stdout",
     "output_type": "stream",
     "text": [
      "            df      sum_sq    mean_sq          F        PR(>F)\n",
      "KT         4.0   65.783045  16.445761  10.991666  2.922883e-07\n",
      "KV         2.0    3.885373   1.942686   1.298411  2.782013e-01\n",
      "KT:KV      8.0    1.588377   0.198547   0.132701  9.976040e-01\n",
      "Residual  87.0  130.169640   1.496203        NaN           NaN\n"
     ]
    }
   ],
   "source": [
    "#Phân tích xem NGONNGU có phụ thuộc trên nhóm KV theo từng loại KT hay khôn\n",
    "model = ols('NGONNGU ~ KT + KV + KT:KV',data=df).fit()\n",
    "result = sm.stats.anova_lm(model, type=2)\n",
    " \n",
    "# Print the result\n",
    "print(result)\n",
    "\n",
    "#logic ->NGONNGU => p.value = 2.92 => Acept -> không phụ thuộc\n",
    "#Logic ->KV => p.value = 2.7 => Acept -> có phụ thuộc"
   ]
  },
  {
   "cell_type": "code",
   "execution_count": null,
   "metadata": {},
   "outputs": [],
   "source": [
    "#PHÂN TÍCH HỒI QUY\n",
    "\n",
    "#MỤC ĐÍCH : #phân tích ảnh hưởng (tác động) giữa các biến số định lượng (định lg)\n",
    "#ví dụ : hãy phân tích sự tác dụng giữa điểm T5 T6 \n",
    "# y = f(x) =. T6 = f(T5)\n",
    "# T6 = phụ thuộc \n",
    "# T5 = độc lập giải thích\n",
    "    "
   ]
  },
  {
   "cell_type": "code",
   "execution_count": 27,
   "metadata": {},
   "outputs": [
    {
     "name": "stdout",
     "output_type": "stream",
     "text": [
      "                            OLS Regression Results                            \n",
      "==============================================================================\n",
      "Dep. Variable:                      y   R-squared:                       0.606\n",
      "Model:                            OLS   Adj. R-squared:                  0.602\n",
      "Method:                 Least Squares   F-statistic:                     151.0\n",
      "Date:                Sat, 09 Sep 2023   Prob (F-statistic):           1.48e-21\n",
      "Time:                        08:23:15   Log-Likelihood:                -125.76\n",
      "No. Observations:                 100   AIC:                             255.5\n",
      "Df Residuals:                      98   BIC:                             260.7\n",
      "Df Model:                           1                                         \n",
      "Covariance Type:            nonrobust                                         \n",
      "==============================================================================\n",
      "                 coef    std err          t      P>|t|      [0.025      0.975]\n",
      "------------------------------------------------------------------------------\n",
      "const          2.1130      0.402      5.257      0.000       1.315       2.911\n",
      "x1             0.7182      0.058     12.286      0.000       0.602       0.834\n",
      "==============================================================================\n",
      "Omnibus:                        1.387   Durbin-Watson:                   1.738\n",
      "Prob(Omnibus):                  0.500   Jarque-Bera (JB):                0.860\n",
      "Skew:                          -0.104   Prob(JB):                        0.650\n",
      "Kurtosis:                       3.404   Cond. No.                         32.8\n",
      "==============================================================================\n",
      "\n",
      "Notes:\n",
      "[1] Standard Errors assume that the covariance matrix of the errors is correctly specified.\n"
     ]
    }
   ],
   "source": [
    "# Hãy cho biết sự ảnh hưởng của điểm học kì 1 năm lớp 12 đến điểm học kì 2 năm lớp 12\n",
    "import statsmodels.api as sm\n",
    "\n",
    "\n",
    "#adding a constant\n",
    "X_with_constant = sm.add_constant(df[[\"T5\"]].values)\n",
    "\n",
    "\n",
    "y = df[['T6']].values\n",
    "\n",
    "\n",
    "#performing the regression\n",
    "result = sm.OLS(y, X_with_constant).fit()\n",
    "\n",
    "\n",
    "# Result of statsmodels\n",
    "print(result.summary())\n",
    "\n",
    "#model : OLS\n",
    "#R-squared : 0.6 cho 60% sự thay đổi của T6 có thể do T5\n",
    "# 40% còn lại chưa biết\n",
    "#adj R-squared\n",
    "#Prod(F-stat) : 1.48e-21 mô hình này phù hợp\n",
    "#const : 2.1130 A0\n",
    "#x1 0.7182 A1\n",
    "#T6 : 2.1130 + 0.7182 * T5\n",
    "#nếu giá trị T6 mà được tính từ T5 theo phương trình trên ta gọi là giá trị dự báo\n",
    "\n"
   ]
  },
  {
   "cell_type": "code",
   "execution_count": 28,
   "metadata": {},
   "outputs": [
    {
     "name": "stdout",
     "output_type": "stream",
     "text": [
      "                            OLS Regression Results                            \n",
      "==============================================================================\n",
      "Dep. Variable:                      y   R-squared:                       0.091\n",
      "Model:                            OLS   Adj. R-squared:                  0.082\n",
      "Method:                 Least Squares   F-statistic:                     9.798\n",
      "Date:                Sat, 09 Sep 2023   Prob (F-statistic):            0.00230\n",
      "Time:                        08:37:47   Log-Likelihood:                -167.61\n",
      "No. Observations:                 100   AIC:                             339.2\n",
      "Df Residuals:                      98   BIC:                             344.4\n",
      "Df Model:                           1                                         \n",
      "Covariance Type:            nonrobust                                         \n",
      "==============================================================================\n",
      "                 coef    std err          t      P>|t|      [0.025      0.975]\n",
      "------------------------------------------------------------------------------\n",
      "const          5.2873      0.543      9.738      0.000       4.210       6.365\n",
      "x1             0.3877      0.124      3.130      0.002       0.142       0.634\n",
      "==============================================================================\n",
      "Omnibus:                        3.433   Durbin-Watson:                   1.792\n",
      "Prob(Omnibus):                  0.180   Jarque-Bera (JB):                3.392\n",
      "Skew:                          -0.441   Prob(JB):                        0.183\n",
      "Kurtosis:                       2.810   Cond. No.                         19.1\n",
      "==============================================================================\n",
      "\n",
      "Notes:\n",
      "[1] Standard Errors assume that the covariance matrix of the errors is correctly specified.\n"
     ]
    }
   ],
   "source": [
    "#T5 = 70 \n",
    "#T6 = product = 7.14\n",
    "# P > |t| < Aplay \n",
    "\n",
    "# Sinh viên tự khám phá sự ảnh hưởng của T6 đến điểm thi LOGIC\n",
    "import statsmodels.api as sm\n",
    "\n",
    "\n",
    "#adding a constant\n",
    "X_with_constant = sm.add_constant(df[[\"LOGIC\"]].values)\n",
    "\n",
    "\n",
    "y = df[['T6']].values\n",
    "\n",
    "\n",
    "#performing the regression\n",
    "result = sm.OLS(y, X_with_constant).fit()\n",
    "\n",
    "\n",
    "# Result of statsmodels\n",
    "print(result.summary())\n",
    "\n",
    "#R-squared : 0.09 cho 9% sự thay đổi của T6 có thể do LOGIC\n",
    "# 81% còn lại chưa biết\n"
   ]
  },
  {
   "cell_type": "code",
   "execution_count": 34,
   "metadata": {},
   "outputs": [
    {
     "ename": "TypeError",
     "evalue": "object of type 'method' has no len()",
     "output_type": "error",
     "traceback": [
      "\u001b[1;31m---------------------------------------------------------------------------\u001b[0m",
      "\u001b[1;31mTypeError\u001b[0m                                 Traceback (most recent call last)",
      "\u001b[1;32me:\\HK7\\ltpt1\\EDA3.ipynb Cell 22\u001b[0m line \u001b[0;36m1\n\u001b[0;32m      <a href='vscode-notebook-cell:/e%3A/HK7/ltpt1/EDA3.ipynb#X36sZmlsZQ%3D%3D?line=8'>9</a>\u001b[0m y \u001b[39m=\u001b[39m df\u001b[39m.\u001b[39mgroupby(\u001b[39m'\u001b[39m\u001b[39mT6\u001b[39m\u001b[39m'\u001b[39m)[\u001b[39m'\u001b[39m\u001b[39mT5\u001b[39m\u001b[39m'\u001b[39m]\u001b[39m.\u001b[39mvalue_counts\n\u001b[0;32m     <a href='vscode-notebook-cell:/e%3A/HK7/ltpt1/EDA3.ipynb#X36sZmlsZQ%3D%3D?line=10'>11</a>\u001b[0m \u001b[39m#y = df[['T6','T5']].values\u001b[39;00m\n\u001b[0;32m     <a href='vscode-notebook-cell:/e%3A/HK7/ltpt1/EDA3.ipynb#X36sZmlsZQ%3D%3D?line=11'>12</a>\u001b[0m \n\u001b[0;32m     <a href='vscode-notebook-cell:/e%3A/HK7/ltpt1/EDA3.ipynb#X36sZmlsZQ%3D%3D?line=12'>13</a>\u001b[0m \n\u001b[0;32m     <a href='vscode-notebook-cell:/e%3A/HK7/ltpt1/EDA3.ipynb#X36sZmlsZQ%3D%3D?line=13'>14</a>\u001b[0m \u001b[39m#performing the regression\u001b[39;00m\n\u001b[1;32m---> <a href='vscode-notebook-cell:/e%3A/HK7/ltpt1/EDA3.ipynb#X36sZmlsZQ%3D%3D?line=14'>15</a>\u001b[0m result \u001b[39m=\u001b[39m sm\u001b[39m.\u001b[39;49mOLS(y, X_with_constant)\u001b[39m.\u001b[39mfit()\n\u001b[0;32m     <a href='vscode-notebook-cell:/e%3A/HK7/ltpt1/EDA3.ipynb#X36sZmlsZQ%3D%3D?line=17'>18</a>\u001b[0m \u001b[39m# Result of statsmodels\u001b[39;00m\n\u001b[0;32m     <a href='vscode-notebook-cell:/e%3A/HK7/ltpt1/EDA3.ipynb#X36sZmlsZQ%3D%3D?line=18'>19</a>\u001b[0m \u001b[39mprint\u001b[39m(result\u001b[39m.\u001b[39msummary())\n",
      "File \u001b[1;32mD:\\Lib\\site-packages\\statsmodels\\regression\\linear_model.py:922\u001b[0m, in \u001b[0;36mOLS.__init__\u001b[1;34m(self, endog, exog, missing, hasconst, **kwargs)\u001b[0m\n\u001b[0;32m    919\u001b[0m     msg \u001b[39m=\u001b[39m (\u001b[39m\"\u001b[39m\u001b[39mWeights are not supported in OLS and will be ignored\u001b[39m\u001b[39m\"\u001b[39m\n\u001b[0;32m    920\u001b[0m            \u001b[39m\"\u001b[39m\u001b[39mAn exception will be raised in the next version.\u001b[39m\u001b[39m\"\u001b[39m)\n\u001b[0;32m    921\u001b[0m     warnings\u001b[39m.\u001b[39mwarn(msg, ValueWarning)\n\u001b[1;32m--> 922\u001b[0m \u001b[39msuper\u001b[39;49m(OLS, \u001b[39mself\u001b[39;49m)\u001b[39m.\u001b[39;49m\u001b[39m__init__\u001b[39;49m(endog, exog, missing\u001b[39m=\u001b[39;49mmissing,\n\u001b[0;32m    923\u001b[0m                           hasconst\u001b[39m=\u001b[39;49mhasconst, \u001b[39m*\u001b[39;49m\u001b[39m*\u001b[39;49mkwargs)\n\u001b[0;32m    924\u001b[0m \u001b[39mif\u001b[39;00m \u001b[39m\"\u001b[39m\u001b[39mweights\u001b[39m\u001b[39m\"\u001b[39m \u001b[39min\u001b[39;00m \u001b[39mself\u001b[39m\u001b[39m.\u001b[39m_init_keys:\n\u001b[0;32m    925\u001b[0m     \u001b[39mself\u001b[39m\u001b[39m.\u001b[39m_init_keys\u001b[39m.\u001b[39mremove(\u001b[39m\"\u001b[39m\u001b[39mweights\u001b[39m\u001b[39m\"\u001b[39m)\n",
      "File \u001b[1;32mD:\\Lib\\site-packages\\statsmodels\\regression\\linear_model.py:742\u001b[0m, in \u001b[0;36mWLS.__init__\u001b[1;34m(self, endog, exog, weights, missing, hasconst, **kwargs)\u001b[0m\n\u001b[0;32m    740\u001b[0m         weights \u001b[39m=\u001b[39m np\u001b[39m.\u001b[39mrepeat(weights, \u001b[39mlen\u001b[39m(kwargs[\u001b[39m'\u001b[39m\u001b[39mmissing_idx\u001b[39m\u001b[39m'\u001b[39m]))\n\u001b[0;32m    741\u001b[0m     \u001b[39melse\u001b[39;00m:\n\u001b[1;32m--> 742\u001b[0m         weights \u001b[39m=\u001b[39m np\u001b[39m.\u001b[39mrepeat(weights, \u001b[39mlen\u001b[39;49m(endog))\n\u001b[0;32m    743\u001b[0m \u001b[39m# handle case that endog might be of len == 1\u001b[39;00m\n\u001b[0;32m    744\u001b[0m \u001b[39mif\u001b[39;00m \u001b[39mlen\u001b[39m(weights) \u001b[39m==\u001b[39m \u001b[39m1\u001b[39m:\n",
      "\u001b[1;31mTypeError\u001b[0m: object of type 'method' has no len()"
     ]
    }
   ],
   "source": [
    "# Hãy phân tích sự ảnh hưởng của điểm toán học kì 1,2 năm lớp 12 đến điểm LOGIC\n",
    "import statsmodels.api as sm\n",
    "\n",
    "\n",
    "#adding a constant\n",
    "X_with_constant = sm.add_constant(df[[\"LOGIC\"]].values)\n",
    "\n",
    "\n",
    "y = df.groupby('T6')['T5'].value_counts\n",
    "\n",
    "#y = df[['T6','T5']].values\n",
    "\n",
    "\n",
    "#performing the regression\n",
    "result = sm.OLS(y, X_with_constant).fit()\n",
    "\n",
    "\n",
    "# Result of statsmodels\n",
    "print(result.summary())\n",
    "\n",
    "# Cho biết nếu T5 = 6.0 và T6 = 5.5 thì dự đoán học sinh đi thi sẽ được điểm LOGIC là nhiêu\n"
   ]
  }
 ],
 "metadata": {
  "kernelspec": {
   "display_name": "Python 3",
   "language": "python",
   "name": "python3"
  },
  "language_info": {
   "codemirror_mode": {
    "name": "ipython",
    "version": 3
   },
   "file_extension": ".py",
   "mimetype": "text/x-python",
   "name": "python",
   "nbconvert_exporter": "python",
   "pygments_lexer": "ipython3",
   "version": "3.11.5"
  },
  "orig_nbformat": 4
 },
 "nbformat": 4,
 "nbformat_minor": 2
}
